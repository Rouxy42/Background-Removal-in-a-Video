{
 "cells": [
  {
   "cell_type": "markdown",
   "id": "a8eaaa1d",
   "metadata": {},
   "source": [
    "# Récupération des données\n",
    "## (+ formalisation)"
   ]
  },
  {
   "cell_type": "code",
   "execution_count": null,
   "id": "ef8d3472",
   "metadata": {},
   "outputs": [],
   "source": [
    "import numpy as np\n",
    "import os\n",
    "from scipy.io import loadmat\n",
    "\n",
    "# --- Obtenir le dossier du script actuel ---\n",
    "script_dir = os.path.dirname(os.path.abspath(\"pedsX.mat\"))\n",
    "\n",
    "# --- Construire le chemin vers le fichier .mat dans le même dossier ---\n",
    "file_path = os.path.join(script_dir, \"pedsX.mat\")\n",
    "\n",
    "# --- Vérifier que le fichier existe ---\n",
    "if not os.path.isfile(file_path):\n",
    "    raise FileNotFoundError(f\"Fichier non trouvé : {file_path}\")\n",
    "\n",
    "# --- Charger le fichier .mat ---\n",
    "data = loadmat(file_path)\n",
    "\n",
    "# --- Exemple : accéder à une variable ---\n",
    "X = np.array(data[\"X\"])  # converti en ndarray pour sécurité\n",
    "m = np.array(data[\"m\"])\n",
    "n = np.array(data[\"n\"])\n",
    "\n",
    "#Ici, on a récupéré la big matrice avec les images vectorisées (X c'est la vidéo)\n",
    "#m et n sont les dimensions (en pixel) des images\n",
    "\n",
    "F = np.array"
   ]
  },
  {
   "cell_type": "markdown",
   "id": "491526cf",
   "metadata": {},
   "source": [
    "# 1. Modélisation du problème\n",
    "\n",
    "$$\\min\\limits_{b_{i} \\in \\mathbb{R}} \\sum\\limits_{j=1}^{t} | X(i, j) - b_{i} |$$\n",
    "\n",
    "$\\text{En posant : } | X(i, j) - b_{i} | = y_{j} \\text{, nous obtenons l'expression suivante : } \\sum\\limits_{j=1}^{t} y_{i}$\n",
    "\n",
    "$\\text{Pour que cela soit un problème d'optimisation, il faut le formuler comme suit :}$\n",
    "\n",
    "$$\n",
    "\\min\\limits_{b_{i} \\in \\mathbb{R}} \\sum\\limits_{j=1}^{t} y_{j} \n",
    "\\quad \\text{s.c.} \\quad\n",
    "\\begin{cases}\n",
    "y_{j} \\geq X(i, j) - b_{i}, & \\forall j=1,\\dots,t \\\\\n",
    "y_{j} \\geq b_{i} - X(i, j), & \\forall j=1,\\dots,t\n",
    "\\end{cases}\n",
    "$$\n",
    "\n",
    "$\\text{Il s'agit donc un problème d'optimisation constitué de p équations et 2p contraintes}$"
   ]
  },
  {
   "cell_type": "markdown",
   "id": "57c4bbbb",
   "metadata": {},
   "source": [
    "# 2. Ecriture sous forme standard\n",
    "\n",
    "$\\text{Les contraintes doivent se réecrire comme suit : }$\n",
    "\n",
    "$$\n",
    "\\min\\sum\\limits_{j=1}^{t} y_{ij}\n",
    "\\quad \\text{s.c.} \\quad\n",
    "\\begin{cases}\n",
    "y_{ij} - X(i, j) + b_{i} - s_{1j} =  0 \\\\\n",
    "y_{ij} - b_{i} + X(i, j) - s_{2j} = 0 \\\\\n",
    "y_{ij}, s_{1j}, s_{2j} ≥ 0\n",
    "\\end{cases}\n",
    "\n",
    "$$"
   ]
  }
 ],
 "metadata": {
  "kernelspec": {
   "display_name": "base",
   "language": "python",
   "name": "python3"
  },
  "language_info": {
   "codemirror_mode": {
    "name": "ipython",
    "version": 3
   },
   "file_extension": ".py",
   "mimetype": "text/x-python",
   "name": "python",
   "nbconvert_exporter": "python",
   "pygments_lexer": "ipython3",
   "version": "3.12.4"
  }
 },
 "nbformat": 4,
 "nbformat_minor": 5
}
