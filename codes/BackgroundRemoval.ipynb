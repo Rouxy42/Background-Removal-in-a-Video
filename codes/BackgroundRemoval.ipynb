{
 "cells": [
  {
   "cell_type": "markdown",
   "id": "a8eaaa1d",
   "metadata": {},
   "source": [
    "# Récupération des données\n",
    "## (+ formalisation)"
   ]
  },
  {
   "cell_type": "code",
   "execution_count": 2,
   "id": "ef8d3472",
   "metadata": {},
   "outputs": [],
   "source": [
    "import numpy as np\n",
    "import os\n",
    "from scipy.io import loadmat\n",
    "\n",
    "# --- Obtenir le dossier du script actuel ---\n",
    "script_dir = os.path.dirname(os.path.abspath(\"pedsX.mat\"))\n",
    "\n",
    "# --- Construire le chemin vers le fichier .mat dans le même dossier ---\n",
    "file_path = os.path.join(script_dir, \"pedsX.mat\")\n",
    "\n",
    "# --- Vérifier que le fichier existe ---\n",
    "if not os.path.isfile(file_path):\n",
    "    raise FileNotFoundError(f\"Fichier non trouvé : {file_path}\")\n",
    "\n",
    "# --- Charger le fichier .mat ---\n",
    "data = loadmat(file_path)\n",
    "\n",
    "# --- Exemple : accéder à une variable ---\n",
    "X = np.array(data[\"X\"])  # converti en ndarray pour sécurité\n",
    "m = np.array(data[\"m\"])\n",
    "n = np.array(data[\"n\"])\n",
    "\n",
    "#Ici, on a récupéré la big matrice avec les images vectorisées (X c'est la vidéo)\n",
    "#m et n sont les dimensions (en pixel) des images\n",
    "\n",
    "F = np.array"
   ]
  },
  {
   "cell_type": "markdown",
   "id": "0664a6a9",
   "metadata": {},
   "source": [
    "# Modélisation du problème\n",
    "\n",
    "$\\min\\limits_{b_{i} \\in \\mathbb{R}} \\sum\\limits_{j=1}^{t} | X(i, j) - b_{i} |$\n",
    "$\\text{En }$"
   ]
  }
 ],
 "metadata": {
  "kernelspec": {
   "display_name": "base",
   "language": "python",
   "name": "python3"
  },
  "language_info": {
   "codemirror_mode": {
    "name": "ipython",
    "version": 3
   },
   "file_extension": ".py",
   "mimetype": "text/x-python",
   "name": "python",
   "nbconvert_exporter": "python",
   "pygments_lexer": "ipython3",
   "version": "3.12.4"
  }
 },
 "nbformat": 4,
 "nbformat_minor": 5
}
