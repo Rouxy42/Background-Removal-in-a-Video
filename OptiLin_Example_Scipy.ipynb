{
  "cells": [
    {
      "cell_type": "code",
      "execution_count": 1,
      "metadata": {
        "id": "yWYFw_GA5CKN"
      },
      "outputs": [],
      "source": [
        "from scipy.optimize import linprog"
      ]
    },
    {
      "cell_type": "code",
      "execution_count": null,
      "metadata": {
        "id": "QhfvJzFVdDrR"
      },
      "outputs": [],
      "source": [
        "#linprog permet de résoudre un problème linéaire\n",
        "#sous la forme :\n",
        "#\n",
        "#           min c'*x\n",
        "#       tel que A_ub*x <= b_ub\n",
        "#               A_eq*x  = b_eq\n",
        "#               l <= x <= u\n",
        "#"
      ]
    },
    {
      "cell_type": "code",
      "execution_count": 29,
      "metadata": {
        "colab": {
          "base_uri": "https://localhost:8080/"
        },
        "id": "8TvqdgWl458l",
        "outputId": "257dc24a-fe5d-409f-ee37-30dd884a572f"
      },
      "outputs": [
        {
          "name": "stdout",
          "output_type": "stream",
          "text": [
            "A l'optimum, objectif=-4.0\n",
            "La valeur optimale des variables est x=[ 8. -5.]\n"
          ]
        }
      ],
      "source": [
        "#Exemple du slide 7 du cours 2-Formulations\n",
        "\n",
        "#Objectif\n",
        "c    = [2,4]\n",
        "\n",
        "#Contraintes d'inégalités\n",
        "A_ub = [[-1,-1]]  #remarquez la transformation\n",
        "b_ub = [-3]       # de x1+x2 >= 3 en -x1-x2 <= -3\n",
        "\n",
        "#Contraintes d'égalités\n",
        "A_eq = [[3,2]]\n",
        "b_eq = [14]\n",
        "\n",
        "#Bornes\n",
        "bounds_x1 = [0,None]\n",
        "bounds_x2 = [None,None]\n",
        "\n",
        "#Résolution\n",
        "model = linprog(c=c,A_ub=A_ub,b_ub=b_ub,A_eq=A_eq,b_eq=b_eq,bounds=[bounds_x1,bounds_x2])\n",
        "x = model.x\n",
        "print(f\"A l'optimum, objectif={model.fun}\")\n",
        "print(f\"La valeur optimale des variables est x={x}\")"
      ]
    },
    {
      "cell_type": "code",
      "execution_count": 32,
      "metadata": {
        "colab": {
          "base_uri": "https://localhost:8080/",
          "height": 466
        },
        "id": "Tl1rGWUA5Bmp",
        "outputId": "f6836cca-a4df-45f1-d95b-b01af85240f1"
      },
      "outputs": [
        {
          "name": "stdout",
          "output_type": "stream",
          "text": [
            "La valeur optimale de a est a=1.1764705882352937 et b=-0.11764705882352362\n"
          ]
        },
        {
          "data": {
            "text/plain": [
              "[<matplotlib.lines.Line2D at 0x7bb5550d27a0>]"
            ]
          },
          "execution_count": 32,
          "metadata": {},
          "output_type": "execute_result"
        },
        {
          "data": {
            "image/png": "[encoded data removed]",
            "text/plain": [
              "<Figure size 640x480 with 1 Axes>"
            ]
          },
          "metadata": {},
          "output_type": "display_data"
        }
      ],
      "source": [
        "#Exemple du slide 17 du cours 2-Formulations\n",
        "\n",
        "import matplotlib.pyplot as plt\n",
        "\n",
        "#Données\n",
        "x = [2,3.5,4,5.5,6,6.5,7,8,10,10.5,12]\n",
        "y = [2,4,7.5,7.5,4,9.5,6,12.5,9,12.5,14]\n",
        "\n",
        "n = len(x)\n",
        "\n",
        "#Il faut réfléchir à la forme du vecteur de variables\n",
        "#Ici, on propose qu'il soit : [a,b,t1,...,tn]\n",
        "#Il y a donc n+2 variables\n",
        "\n",
        "#Objectif\n",
        "c    = [0,0]+[1]*n\n",
        "\n",
        "#Contraintes d'inégalités : il y en a 2*n\n",
        "A_ub = [[0] * (n+2) for _ in range(2*n)] #Initialisation d'une matrice de taille (2*n)*(n+2)\n",
        "b_ub = [0]*(2*n) #Initialisation d'un vecteur de taille (2*n)\n",
        "for i in range(n):\n",
        "  A_ub[2*i][0]   = x[i]\n",
        "  A_ub[2*i][1]   = 1\n",
        "  A_ub[2*i][2+i] = -1\n",
        "  b_ub[2*i]      = y[i]\n",
        "\n",
        "  A_ub[2*i+1][0]   = -x[i]\n",
        "  A_ub[2*i+1][1]   = -1\n",
        "  A_ub[2*i+1][2+i] = -1\n",
        "  b_ub[2*i+1]      = -y[i]\n",
        "\n",
        "bounds = [[None,None] for _ in range(n+2)] #Pas de bornes pour les n+1 variables\n",
        "\n",
        "model = linprog(c=c,A_ub=A_ub,b_ub=b_ub,bounds=bounds)\n",
        "a, b  = model.x[0], model.x[1]\n",
        "print(f\"La valeur optimale de a est a={a} et b={b}\")\n",
        "\n",
        "absc = [2,12]\n",
        "ordo = [a * x + b for x in absc]\n",
        "plt.plot(absc,ordo) # Tracé de la droite\n",
        "plt.plot(x,y,'o')   # Tracé des points"
      ]
    }
  ],
  "metadata": {
    "colab": {
      "provenance": []
    },
    "kernelspec": {
      "display_name": "Python 3",
      "name": "python3"
    },
    "language_info": {
      "name": "python"
    }
  },
  "nbformat": 4,
  "nbformat_minor": 0
}
